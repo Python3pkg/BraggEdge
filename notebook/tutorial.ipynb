{
 "cells": [
  {
   "cell_type": "code",
   "execution_count": null,
   "metadata": {
    "collapsed": true
   },
   "outputs": [],
   "source": [
    "import numpy as np\n",
    "import sys"
   ]
  },
  {
   "cell_type": "markdown",
   "metadata": {},
   "source": [
    "Path to the python folder of the BraggEdge library"
   ]
  },
  {
   "cell_type": "code",
   "execution_count": 1,
   "metadata": {
    "collapsed": true
   },
   "outputs": [],
   "source": [
    "sys.path.append('/users/j35/git/braggedge/python')"
   ]
  },
  {
   "cell_type": "markdown",
   "metadata": {},
   "source": [
    "### Retrieving values from table"
   ]
  },
  {
   "cell_type": "code",
   "execution_count": 4,
   "metadata": {
    "collapsed": true
   },
   "outputs": [],
   "source": [
    "from neutronbraggedge.braggedge import BraggEdge"
   ]
  },
  {
   "cell_type": "code",
   "execution_count": 5,
   "metadata": {
    "collapsed": false
   },
   "outputs": [],
   "source": [
    "_handler = BraggEdge(material = ['Ni'], number_of_bragg_edges=20)"
   ]
  },
  {
   "cell_type": "code",
   "execution_count": 6,
   "metadata": {
    "collapsed": false
   },
   "outputs": [
    {
     "name": "stdout",
     "output_type": "stream",
     "text": [
      "=============================================\n",
      "Material: Ni\n",
      "Lattice : 3.5238Å\n",
      "Crystal Structure: FCC\n",
      "Using local metadata Table: True\n",
      "=============================================\n",
      " h | k | l |\t d (Å)  |\t BraggEdge\n",
      "---------------------------------------------\n",
      " 1 | 1 | 1 |\t 2.03447 |\t 4.06893\n",
      " 2 | 0 | 0 |\t 1.76190 |\t 3.52380\n",
      " 2 | 2 | 0 |\t 1.24585 |\t 2.49170\n",
      " 2 | 2 | 2 |\t 1.01723 |\t 2.03447\n",
      " 3 | 1 | 1 |\t 1.06247 |\t 2.12493\n",
      " 3 | 3 | 1 |\t 0.80842 |\t 1.61683\n",
      " 3 | 3 | 3 |\t 0.67816 |\t 1.35631\n",
      " 4 | 0 | 0 |\t 0.88095 |\t 1.76190\n",
      " 4 | 2 | 0 |\t 0.78795 |\t 1.57589\n",
      " 4 | 2 | 2 |\t 0.71929 |\t 1.43859\n",
      " 4 | 4 | 0 |\t 0.62293 |\t 1.24585\n",
      " 4 | 4 | 2 |\t 0.58730 |\t 1.17460\n",
      " 4 | 4 | 4 |\t 0.50862 |\t 1.01723\n",
      " 5 | 1 | 1 |\t 0.67816 |\t 1.35631\n",
      " 5 | 3 | 1 |\t 0.59563 |\t 1.19126\n",
      " 5 | 3 | 3 |\t 0.53737 |\t 1.07475\n",
      " 5 | 5 | 1 |\t 0.49343 |\t 0.98686\n",
      " 5 | 5 | 3 |\t 0.45876 |\t 0.91752\n",
      " 5 | 5 | 5 |\t 0.40689 |\t 0.81379\n",
      " 6 | 0 | 0 |\t 0.58730 |\t 1.17460\n",
      "=============================================\n",
      "\n"
     ]
    }
   ],
   "source": [
    "print(_handler)"
   ]
  },
  {
   "cell_type": "markdown",
   "metadata": {},
   "source": [
    "### Adding manually a material "
   ]
  },
  {
   "cell_type": "code",
   "execution_count": 8,
   "metadata": {
    "collapsed": false
   },
   "outputs": [],
   "source": [
    "new_material = [{'name': 'AlNi',\n",
    "               'lattice': 5.55,\n",
    "               'crystal_structure': 'BCC'}]\n",
    "_handler = BraggEdge(new_material= new_material)"
   ]
  },
  {
   "cell_type": "code",
   "execution_count": 9,
   "metadata": {
    "collapsed": false
   },
   "outputs": [
    {
     "name": "stdout",
     "output_type": "stream",
     "text": [
      "=============================================\n",
      "Material: AlNi\n",
      "Lattice : 5.5500Å\n",
      "Crystal Structure: BCC\n",
      "Using local metadata Table: True\n",
      "=============================================\n",
      " h | k | l |\t d (Å)  |\t BraggEdge\n",
      "---------------------------------------------\n",
      " 1 | 1 | 0 |\t 3.92444 |\t 7.84889\n",
      " 2 | 0 | 0 |\t 2.77500 |\t 5.55000\n",
      " 2 | 1 | 1 |\t 2.26578 |\t 4.53156\n",
      " 2 | 2 | 0 |\t 1.96222 |\t 3.92444\n",
      " 2 | 2 | 2 |\t 1.60215 |\t 3.20429\n",
      " 3 | 1 | 0 |\t 1.75506 |\t 3.51013\n",
      " 3 | 2 | 1 |\t 1.48330 |\t 2.96660\n",
      " 3 | 3 | 0 |\t 1.30815 |\t 2.61630\n",
      " 3 | 3 | 2 |\t 1.18326 |\t 2.36653\n",
      " 4 | 0 | 0 |\t 1.38750 |\t 2.77500\n",
      "=============================================\n",
      "\n"
     ]
    }
   ],
   "source": [
    "print(_handler)"
   ]
  },
  {
   "cell_type": "code",
   "execution_count": null,
   "metadata": {
    "collapsed": true
   },
   "outputs": [],
   "source": []
  }
 ],
 "metadata": {
  "kernelspec": {
   "display_name": "Python 3",
   "language": "python",
   "name": "python3"
  },
  "language_info": {
   "codemirror_mode": {
    "name": "ipython",
    "version": 3
   },
   "file_extension": ".py",
   "mimetype": "text/x-python",
   "name": "python",
   "nbconvert_exporter": "python",
   "pygments_lexer": "ipython3",
   "version": "3.5.2"
  }
 },
 "nbformat": 4,
 "nbformat_minor": 0
}
