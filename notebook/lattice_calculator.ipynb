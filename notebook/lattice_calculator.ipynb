{
 "cells": [
  {
   "cell_type": "code",
   "execution_count": 1,
   "metadata": {
    "collapsed": true
   },
   "outputs": [],
   "source": [
    "import numpy as np\n",
    "from neutronbraggedge.lattice_handler.lattice import Lattice"
   ]
  },
  {
   "cell_type": "markdown",
   "metadata": {},
   "source": [
    "### init object "
   ]
  },
  {
   "cell_type": "code",
   "execution_count": 2,
   "metadata": {
    "collapsed": false
   },
   "outputs": [],
   "source": [
    "_material = 'Si'\n",
    "_crystal_structure = 'FCC'\n",
    "_bragg_edge_array = np.array([1.1, 2.2, 3.3, 4.4])"
   ]
  },
  {
   "cell_type": "code",
   "execution_count": 3,
   "metadata": {
    "collapsed": true
   },
   "outputs": [],
   "source": [
    "o_lattice = Lattice(material = _material,\n",
    "                   crystal_structure = _crystal_structure,\n",
    "                   bragg_edge_array = _bragg_edge_array)"
   ]
  },
  {
   "cell_type": "markdown",
   "metadata": {},
   "source": [
    "### calculate hkl bragg edge sequence "
   ]
  },
  {
   "cell_type": "code",
   "execution_count": 4,
   "metadata": {
    "collapsed": false
   },
   "outputs": [],
   "source": [
    "o_lattice.calculate()"
   ]
  },
  {
   "cell_type": "code",
   "execution_count": 5,
   "metadata": {
    "collapsed": false
   },
   "outputs": [
    {
     "name": "stdout",
     "output_type": "stream",
     "text": [
      "hkl Bragg Edge Table\n",
      "=============================\n",
      "hkl \t\t Bragg Edge\n",
      "-----------------------------\n",
      "[1, 1, 1]\t 1.1000\n",
      "[2, 0, 0]\t 2.2000\n",
      "[2, 2, 0]\t 3.3000\n",
      "[2, 2, 2]\t 4.4000\n",
      "-----------------------------\n"
     ]
    }
   ],
   "source": [
    "o_lattice.display_hkl_bragg_edge()"
   ]
  },
  {
   "cell_type": "markdown",
   "metadata": {},
   "source": [
    "### calculate lattice coefficient "
   ]
  },
  {
   "cell_type": "code",
   "execution_count": 7,
   "metadata": {
    "collapsed": false
   },
   "outputs": [
    {
     "name": "stdout",
     "output_type": "stream",
     "text": [
      "0.952627944163\n"
     ]
    }
   ],
   "source": [
    "a_111 = (np.sqrt(3) * 1.1)/2.\n",
    "print(a_111)"
   ]
  },
  {
   "cell_type": "code",
   "execution_count": null,
   "metadata": {
    "collapsed": true
   },
   "outputs": [],
   "source": []
  }
 ],
 "metadata": {
  "kernelspec": {
   "display_name": "Python 3",
   "language": "python",
   "name": "python3"
  },
  "language_info": {
   "codemirror_mode": {
    "name": "ipython",
    "version": 3
   },
   "file_extension": ".py",
   "mimetype": "text/x-python",
   "name": "python",
   "nbconvert_exporter": "python",
   "pygments_lexer": "ipython3",
   "version": "3.4.4"
  }
 },
 "nbformat": 4,
 "nbformat_minor": 0
}
